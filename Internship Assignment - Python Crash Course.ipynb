{
 "cells": [
  {
   "cell_type": "markdown",
   "metadata": {},
   "source": [
    "#### 1 - What is 7 to the power of 4?"
   ]
  },
  {
   "cell_type": "code",
   "execution_count": 4,
   "metadata": {},
   "outputs": [
    {
     "name": "stdout",
     "output_type": "stream",
     "text": [
      "7 ** 4 = 2401\n"
     ]
    }
   ],
   "source": [
    "a=7**4\n",
    "print(f'7 ** 4 = %s'%a)"
   ]
  },
  {
   "cell_type": "markdown",
   "metadata": {},
   "source": [
    "### 2 - Split this string: s = \"Hi there Sam!\" , into a list."
   ]
  },
  {
   "cell_type": "code",
   "execution_count": 7,
   "metadata": {},
   "outputs": [
    {
     "data": {
      "text/plain": [
       "['Hi', 'there', 'Sam!']"
      ]
     },
     "execution_count": 7,
     "metadata": {},
     "output_type": "execute_result"
    }
   ],
   "source": [
    "s=\"Hi there Sam!\"\n",
    "a=s.split(' ')\n",
    "b=list(a)\n",
    "b"
   ]
  },
  {
   "cell_type": "markdown",
   "metadata": {},
   "source": [
    "### 3 - Given the variables: \n",
    "### planet = \"Earth\"\n",
    "### diameter = 12742\n",
    "### Use .format() to print the following string: The diameter of Earth is 12742 kilometers."
   ]
  },
  {
   "cell_type": "code",
   "execution_count": 15,
   "metadata": {},
   "outputs": [
    {
     "name": "stdout",
     "output_type": "stream",
     "text": [
      "The diameter of Earth is 12742\n"
     ]
    }
   ],
   "source": [
    "a=\"Earth\"\n",
    "b=12742\n",
    "print(\"The diameter of {} is {}\".format(a,b))"
   ]
  },
  {
   "cell_type": "markdown",
   "metadata": {},
   "source": [
    "###  4 - Given this nested list, use indexing to grab the word \"hello\" \n",
    "###  lst = [1,2,[3,4],[5,[100,200,['hello']],23,11],1,7]"
   ]
  },
  {
   "cell_type": "code",
   "execution_count": 54,
   "metadata": {},
   "outputs": [
    {
     "name": "stdout",
     "output_type": "stream",
     "text": [
      "['hello']\n"
     ]
    }
   ],
   "source": [
    "lst = [1,2,[3,4],[5,[100,200,['hello']],23,11],1,7]\n",
    "print(lst[3][1][2])"
   ]
  },
  {
   "cell_type": "markdown",
   "metadata": {},
   "source": [
    "### 5 - Given this nested dictionary grab the word \"hello\". Be prepared, this will be annoying/tricky\n",
    "### d = {'k1':[1,2,3,{'tricky':['oh','man','inception',{'target':[1,2,3,'hello']}]}]}"
   ]
  },
  {
   "cell_type": "code",
   "execution_count": 55,
   "metadata": {},
   "outputs": [
    {
     "name": "stdout",
     "output_type": "stream",
     "text": [
      "hello\n"
     ]
    }
   ],
   "source": [
    "d = {'k1':[1,2,3,{'tricky':['oh','man','inception',{'target':[1,2,3,'hello']}]}]}\n",
    "print(d['k1'][3]['tricky'][3]['target'][3])"
   ]
  },
  {
   "cell_type": "markdown",
   "metadata": {},
   "source": [
    "### 6 - What is the main difference between a tuple and a list? "
   ]
  },
  {
   "cell_type": "markdown",
   "metadata": {},
   "source": [
    "* Tuples are immutable\n",
    "* Lists are mutable"
   ]
  },
  {
   "cell_type": "markdown",
   "metadata": {},
   "source": [
    "### 7 - Create a function that grabs the email website domain from a string in the form: user@domain.com"
   ]
  },
  {
   "cell_type": "code",
   "execution_count": 18,
   "metadata": {},
   "outputs": [
    {
     "name": "stdout",
     "output_type": "stream",
     "text": [
      "domain.com\n"
     ]
    }
   ],
   "source": [
    "def domainGet(a):\n",
    "    for i in range(len(a)):\n",
    "        if a[i]=='@':\n",
    "            start=i+1\n",
    "            break\n",
    "    print(a[start:])\n",
    "a='user@domain.com'\n",
    "domainGet(a)"
   ]
  },
  {
   "cell_type": "code",
   "execution_count": 17,
   "metadata": {},
   "outputs": [
    {
     "name": "stdout",
     "output_type": "stream",
     "text": [
      "Enter an email\n",
      "jxsa10@gmail.com\n",
      "Website Domain = gmail.com\n"
     ]
    }
   ],
   "source": [
    "def domainGet(a):\n",
    "    b=a.split('@')\n",
    "    return b[1]\n",
    "a=input(\"Enter an email\\n\")\n",
    "print(\"Website Domain =\",domainGet(a))\n"
   ]
  },
  {
   "cell_type": "markdown",
   "metadata": {},
   "source": [
    "### 8 - Create a basic function that returns True if the word 'dog' is contained in the input string. Don't worry about edge cases like a punctuation being attached to the word dog, but do account for capitalization. "
   ]
  },
  {
   "cell_type": "code",
   "execution_count": 63,
   "metadata": {},
   "outputs": [
    {
     "name": "stdout",
     "output_type": "stream",
     "text": [
      "True\n"
     ]
    }
   ],
   "source": [
    "def findDog(a):\n",
    "    key=['dog','Dog','DOG']\n",
    "    b=a.split(' ')\n",
    "    for i in b:\n",
    "        if i in key:\n",
    "            print(\"True\")\n",
    "a='Is there a dog here?'\n",
    "findDog(a)"
   ]
  },
  {
   "cell_type": "markdown",
   "metadata": {},
   "source": [
    "### 9 - Create a function that counts the number of times the word \"dog\" occurs in a string. Again ignore edge cases. "
   ]
  },
  {
   "cell_type": "code",
   "execution_count": 66,
   "metadata": {},
   "outputs": [
    {
     "name": "stdout",
     "output_type": "stream",
     "text": [
      "2\n"
     ]
    }
   ],
   "source": [
    "def countDog(a):\n",
    "    key=['dog','Dog','DOG']\n",
    "    c=0\n",
    "    b=a.split(' ')\n",
    "    for i in b:\n",
    "        if i in key:\n",
    "            c += 1\n",
    "    print(c)\n",
    "a='This dog runs faster than the other dog dude!'\n",
    "countDog(a)"
   ]
  },
  {
   "cell_type": "markdown",
   "metadata": {},
   "source": [
    "### 10 - Use lambda expressions and the filter() function to filter out words from a list that don't start with the letter 's'. \n",
    "### For example:\n",
    "### seq = ['soup','dog','salad','cat','great']\n",
    "### should be filtered down to: ['soup','salad']"
   ]
  },
  {
   "cell_type": "code",
   "execution_count": 9,
   "metadata": {},
   "outputs": [
    {
     "name": "stdout",
     "output_type": "stream",
     "text": [
      "['soup', 'salad']\n"
     ]
    }
   ],
   "source": [
    "seq = ['soup','dog','salad','cat','great'] \n",
    "a = list(filter(lambda x: x.startswith('s'),seq))\n",
    "print(a)"
   ]
  },
  {
   "cell_type": "markdown",
   "metadata": {},
   "source": [
    "### 10 - Final Problem\n",
    "### You are driving a little too fast, and a police officer stops you. Write a function to return one of 3 possible results: \"No ticket\", \"Small ticket\", or \"Big Ticket\". If your speed is 60 or less, the result is \"No Ticket\". If speed is between 61 and 80 inclusive, the result is \"Small Ticket\". If speed is 81 or more, the result is \"Big Ticket\". Unless it is your birthday (encoded as a boolean value in the parameters of the function) -- on your birthday, your speed can be 5 higher in all cases.\n"
   ]
  },
  {
   "cell_type": "code",
   "execution_count": 14,
   "metadata": {},
   "outputs": [
    {
     "name": "stdout",
     "output_type": "stream",
     "text": [
      "84\n",
      "1 for True \n",
      "2 for False\n",
      "2\n",
      "Big Ticket\n"
     ]
    }
   ],
   "source": [
    "def caught_speeding(s,b):\n",
    "    if b==1:\n",
    "        if s<65:\n",
    "            print(\"No Ticket\")\n",
    "        elif s>65 and s<=85:\n",
    "            print(\"Small Ticket\")\n",
    "        else:\n",
    "            print(\"Big Ticket\")\n",
    "    else:\n",
    "        if s<60:\n",
    "            print(\"No Ticket\")\n",
    "        elif s>61 and s<=80:\n",
    "            print(\"Small Ticket\")\n",
    "        else:\n",
    "            print(\"Big Ticket\")\n",
    "s=int(input())\n",
    "b=int(input(\"1 for True \\n2 for False\\n\"))\n",
    "caught_speeding(s,b)"
   ]
  }
 ],
 "metadata": {
  "kernelspec": {
   "display_name": "Python 3",
   "language": "python",
   "name": "python3"
  },
  "language_info": {
   "codemirror_mode": {
    "name": "ipython",
    "version": 3
   },
   "file_extension": ".py",
   "mimetype": "text/x-python",
   "name": "python",
   "nbconvert_exporter": "python",
   "pygments_lexer": "ipython3",
   "version": "3.7.3"
  }
 },
 "nbformat": 4,
 "nbformat_minor": 2
}
